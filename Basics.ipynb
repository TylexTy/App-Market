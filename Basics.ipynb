{
 "cells": [
  {
   "cell_type": "markdown",
   "metadata": {
    "collapsed": true
   },
   "source": [
    "# Apps that Are More Likely to Attract Costumers in the App Store and Google Play Markets\n",
    "\n",
    "In this project we will be going through app data from the App Store and Google Play markets to make a decision as to which kind of app to make based on analysis of which apps are likely to attract more users.\n",
    "\n",
    "## Opening and Exploring the Data"
   ]
  },
  {
   "cell_type": "code",
   "execution_count": 1,
   "metadata": {},
   "outputs": [],
   "source": [
    "from csv import reader\n",
    "\n",
    "\n",
    "# Apple Data\n",
    "open_Apple = open('AppleStore.csv', encoding = 'Latin-1')\n",
    "read_Data = reader(open_Apple)\n",
    "apple_Data = list(read_Data)\n",
    "apple_Header = apple_Data[0]\n",
    "apple_Data = apple_Data[1:]\n",
    "\n",
    "\n",
    "# Google Data\n",
    "open_Google = open('googleplaystore.csv', encoding = 'Latin-1')\n",
    "read_Data = reader(open_Google)\n",
    "google_Data = list(read_Data)\n",
    "google_Header = google_Data[0]\n",
    "google_Data = google_Data[1:]\n",
    "\n",
    "\n",
    "\n"
   ]
  },
  {
   "cell_type": "code",
   "execution_count": 2,
   "metadata": {},
   "outputs": [
    {
     "name": "stdout",
     "output_type": "stream",
     "text": [
      "['', 'id', 'track_name', 'size_bytes', 'currency', 'price', 'rating_count_tot', 'rating_count_ver', 'user_rating', 'user_rating_ver', 'ver', 'cont_rating', 'prime_genre', 'sup_devices.num', 'ipadSc_urls.num', 'lang.num', 'vpp_lic']\n",
      "\n",
      "\n",
      "['1', '281656475', 'PAC-MAN Premium', '100788224', 'USD', '3.99', '21292', '26', '4', '4.5', '6.3.5', '4+', 'Games', '38', '5', '10', '1']\n",
      "\n",
      "\n",
      "['2', '281796108', 'Evernote - stay organized', '158578688', 'USD', '0', '161065', '26', '4', '3.5', '8.2.2', '4+', 'Productivity', '37', '5', '23', '1']\n",
      "\n",
      "\n",
      "['3', '281940292', 'WeatherBug - Local Weather, Radar, Maps, Alerts', '100524032', 'USD', '0', '188583', '2822', '3.5', '4.5', '5.0.0', '4+', 'Weather', '37', '5', '3', '1']\n",
      "\n",
      "\n",
      "['4', '282614216', 'eBay: Best App to Buy, Sell, Save! Online Shopping', '128512000', 'USD', '0', '262241', '649', '4', '4.5', '5.10.0', '12+', 'Shopping', '37', '5', '9', '1']\n",
      "\n",
      "\n",
      "Number of rows: 7197\n",
      "Number of columns: 17\n"
     ]
    }
   ],
   "source": [
    "def explore_data(dataset, start, end, rows_and_columns=False):\n",
    "    dataset_slice = dataset[start:end]    \n",
    "    for row in dataset_slice:\n",
    "        print(row)\n",
    "        print('\\n') # adds a new (empty) line after each row\n",
    "\n",
    "    if rows_and_columns:\n",
    "        print('Number of rows:', len(dataset))\n",
    "        print('Number of columns:', len(dataset[0]))\n",
    "\n",
    "\n",
    "print(apple_Header)\n",
    "print('\\n')\n",
    "explore_data(apple_Data, 0, 4, True)\n"
   ]
  },
  {
   "cell_type": "markdown",
   "metadata": {},
   "source": [
    "We would be most interested in freemium games (so price of 0.0) with the rating_count_tot column (how many times users rated it) and user_rating column (average rating from users). Finally we wish to know which type of app it is so we will be needing the prime_genre column."
   ]
  },
  {
   "cell_type": "code",
   "execution_count": 3,
   "metadata": {},
   "outputs": [
    {
     "name": "stdout",
     "output_type": "stream",
     "text": [
      "['App', 'Category', 'Rating', 'Reviews', 'Size', 'Installs', 'Type', 'Price', 'Content Rating', 'Genres', 'Last Updated', 'Current Ver', 'Android Ver']\n",
      "\n",
      "\n",
      "['Photo Editor & Candy Camera & Grid & ScrapBook', 'ART_AND_DESIGN', '4.1', '159', '19M', '10,000+', 'Free', '0', 'Everyone', 'Art & Design', 'January 7, 2018', '1.0.0', '4.0.3 and up']\n",
      "\n",
      "\n",
      "['Coloring book moana', 'ART_AND_DESIGN', '3.9', '967', '14M', '500,000+', 'Free', '0', 'Everyone', 'Art & Design;Pretend Play', 'January 15, 2018', '2.0.0', '4.0.3 and up']\n",
      "\n",
      "\n",
      "['U Launcher Lite â\\x80\\x93 FREE Live Cool Themes, Hide Apps', 'ART_AND_DESIGN', '4.7', '87510', '8.7M', '5,000,000+', 'Free', '0', 'Everyone', 'Art & Design', 'August 1, 2018', '1.2.4', '4.0.3 and up']\n",
      "\n",
      "\n",
      "['Sketch - Draw & Paint', 'ART_AND_DESIGN', '4.5', '215644', '25M', '50,000,000+', 'Free', '0', 'Teen', 'Art & Design', 'June 8, 2018', 'Varies with device', '4.2 and up']\n",
      "\n",
      "\n",
      "Number of rows: 10841\n",
      "Number of columns: 13\n"
     ]
    }
   ],
   "source": [
    "print(google_Header)\n",
    "print('\\n')\n",
    "explore_data(google_Data,0,4, True)"
   ]
  },
  {
   "cell_type": "markdown",
   "metadata": {},
   "source": [
    "For Google apps, we will want the Category column, the rating column, the reviews, perhaps the installs and perhaps content rating."
   ]
  },
  {
   "cell_type": "markdown",
   "metadata": {},
   "source": [
    "## Deleting Wrong Data"
   ]
  },
  {
   "cell_type": "markdown",
   "metadata": {},
   "source": [
    "**For Google**"
   ]
  },
  {
   "cell_type": "code",
   "execution_count": 4,
   "metadata": {},
   "outputs": [
    {
     "name": "stdout",
     "output_type": "stream",
     "text": [
      "['App', 'Category', 'Rating', 'Reviews', 'Size', 'Installs', 'Type', 'Price', 'Content Rating', 'Genres', 'Last Updated', 'Current Ver', 'Android Ver']\n",
      "\n",
      "\n",
      "['Life Made WI-Fi Touchscreen Photo Frame', '1.9', '19', '3.0M', '1,000+', 'Free', '0', 'Everyone', '', 'February 11, 2018', '1.0.19', '4.0 and up']\n"
     ]
    }
   ],
   "source": [
    "print(google_Header)\n",
    "print('\\n')\n",
    "print(google_Data[10472])"
   ]
  },
  {
   "cell_type": "code",
   "execution_count": 5,
   "metadata": {},
   "outputs": [],
   "source": [
    "del google_Data[10472]"
   ]
  },
  {
   "cell_type": "markdown",
   "metadata": {},
   "source": [
    "**For Apple**"
   ]
  },
  {
   "cell_type": "markdown",
   "metadata": {},
   "source": [
    "There wasn't any wrong data found in the Apple data"
   ]
  },
  {
   "cell_type": "markdown",
   "metadata": {},
   "source": [
    "## Duplicate Entries: Part One"
   ]
  },
  {
   "cell_type": "code",
   "execution_count": 6,
   "metadata": {},
   "outputs": [
    {
     "name": "stdout",
     "output_type": "stream",
     "text": [
      "['Box', 'BUSINESS', '4.2', '159872', 'Varies with device', '10,000,000+', 'Free', '0', 'Everyone', 'Business', 'July 31, 2018', 'Varies with device', 'Varies with device']\n",
      "['Box', 'BUSINESS', '4.2', '159872', 'Varies with device', '10,000,000+', 'Free', '0', 'Everyone', 'Business', 'July 31, 2018', 'Varies with device', 'Varies with device']\n",
      "['Box', 'BUSINESS', '4.2', '159872', 'Varies with device', '10,000,000+', 'Free', '0', 'Everyone', 'Business', 'July 31, 2018', 'Varies with device', 'Varies with device']\n"
     ]
    }
   ],
   "source": [
    "for app in google_Data:\n",
    "    name = app[0]\n",
    "    if name == 'Box':\n",
    "        print(app)"
   ]
  },
  {
   "cell_type": "code",
   "execution_count": 7,
   "metadata": {},
   "outputs": [
    {
     "name": "stdout",
     "output_type": "stream",
     "text": [
      "number of duplicate entries: 1181\n",
      "['Quick PDF Scanner + OCR FREE', 'Box', 'Google My Business', 'ZOOM Cloud Meetings', 'join.me - Simple Meetings']\n"
     ]
    }
   ],
   "source": [
    "duplicate_apps = []\n",
    "unique_apps = []\n",
    "\n",
    "for app in google_Data:\n",
    "    name = app[0]\n",
    "    if name in unique_apps:\n",
    "        duplicate_apps.append(name)\n",
    "    unique_apps.append(name)\n",
    "\n",
    "print(\"number of duplicate entries:\",len(duplicate_apps))\n",
    "print(duplicate_apps[:5])"
   ]
  },
  {
   "cell_type": "markdown",
   "metadata": {},
   "source": [
    "We see above that there are 1181 duplicate entries, and give an example of 'Box' being used 3 times.\n",
    "\n",
    "To remove the duplicates we are going to keep the row data with the highest number of reviews and remove the other entries for any given app."
   ]
  },
  {
   "cell_type": "markdown",
   "metadata": {},
   "source": [
    "## Duplicate Entries: Part Two"
   ]
  },
  {
   "cell_type": "code",
   "execution_count": 8,
   "metadata": {},
   "outputs": [],
   "source": [
    "reviews_max = {}\n",
    "\n",
    "for row in google_Data:\n",
    "    name = row[0]\n",
    "    n_reviews = float(row[3])\n",
    "    if (name in reviews_max and reviews_max[name] < n_reviews):\n",
    "        reviews_max[name] = n_reviews\n",
    "    elif (name not in reviews_max):\n",
    "        reviews_max[name] = n_reviews"
   ]
  },
  {
   "cell_type": "markdown",
   "metadata": {},
   "source": [
    "The code above fills up a dictionary with app name as a key and number of reviews as a value. Whenever a duplicate is encountered, it will take on the new value for number of reviews if that value is higher than the previous one."
   ]
  },
  {
   "cell_type": "code",
   "execution_count": 9,
   "metadata": {},
   "outputs": [
    {
     "name": "stdout",
     "output_type": "stream",
     "text": [
      "Expected length: 9659\n",
      "Actual length: 9659\n"
     ]
    }
   ],
   "source": [
    "print(\"Expected length:\", len(google_Data) - 1181)\n",
    "print('Actual length:', len(reviews_max))"
   ]
  },
  {
   "cell_type": "code",
   "execution_count": 10,
   "metadata": {},
   "outputs": [],
   "source": [
    "android_clean = []\n",
    "already_added = []\n",
    "\n",
    "for row in google_Data:\n",
    "    name = row[0]\n",
    "    n_reviews = float(row[3])\n",
    "    if (n_reviews == reviews_max[name] and name not in already_added):\n",
    "        android_clean.append(row)\n",
    "        already_added.append(name)"
   ]
  },
  {
   "cell_type": "code",
   "execution_count": 11,
   "metadata": {},
   "outputs": [
    {
     "name": "stdout",
     "output_type": "stream",
     "text": [
      "['Photo Editor & Candy Camera & Grid & ScrapBook', 'ART_AND_DESIGN', '4.1', '159', '19M', '10,000+', 'Free', '0', 'Everyone', 'Art & Design', 'January 7, 2018', '1.0.0', '4.0.3 and up']\n",
      "\n",
      "\n",
      "['U Launcher Lite â\\x80\\x93 FREE Live Cool Themes, Hide Apps', 'ART_AND_DESIGN', '4.7', '87510', '8.7M', '5,000,000+', 'Free', '0', 'Everyone', 'Art & Design', 'August 1, 2018', '1.2.4', '4.0.3 and up']\n",
      "\n",
      "\n",
      "['Sketch - Draw & Paint', 'ART_AND_DESIGN', '4.5', '215644', '25M', '50,000,000+', 'Free', '0', 'Teen', 'Art & Design', 'June 8, 2018', 'Varies with device', '4.2 and up']\n",
      "\n",
      "\n",
      "['Pixel Draw - Number Art Coloring Book', 'ART_AND_DESIGN', '4.3', '967', '2.8M', '100,000+', 'Free', '0', 'Everyone', 'Art & Design;Creativity', 'June 20, 2018', '1.1', '4.4 and up']\n",
      "\n",
      "\n",
      "Number of rows: 9659\n",
      "Number of columns: 13\n"
     ]
    }
   ],
   "source": [
    "explore_data(android_clean, 0, 4, True)"
   ]
  },
  {
   "cell_type": "markdown",
   "metadata": {
    "collapsed": true
   },
   "source": [
    "## Removing Non-English Apps: Part One"
   ]
  },
  {
   "cell_type": "code",
   "execution_count": 12,
   "metadata": {},
   "outputs": [],
   "source": [
    "def is_English(string):\n",
    "    for letter in string:\n",
    "        if ord(letter) > 127:\n",
    "            return False\n",
    "    return True"
   ]
  },
  {
   "cell_type": "code",
   "execution_count": 13,
   "metadata": {},
   "outputs": [
    {
     "name": "stdout",
     "output_type": "stream",
     "text": [
      "Instagram: True\n",
      "爱奇艺PPS -《欢乐颂2》电视剧热播: False\n",
      "Docs To Go™ Free Office Suite False\n",
      "Instachat 😜 False\n"
     ]
    }
   ],
   "source": [
    "print('Instagram:', is_English('Instagram'))\n",
    "print('爱奇艺PPS -《欢乐颂2》电视剧热播:', is_English('爱奇艺PPS -《欢乐颂2》电视剧热播'))\n",
    "print('Docs To Go™ Free Office Suite', is_English('Docs To Go™ Free Office Suite'))\n",
    "print('Instachat 😜', is_English('Instachat 😜'))"
   ]
  },
  {
   "cell_type": "markdown",
   "metadata": {},
   "source": [
    "## Removing Non-English Apps: Part Two"
   ]
  },
  {
   "cell_type": "markdown",
   "metadata": {},
   "source": [
    "The above function wasn't good enough because it didn't work for emojis and other English ASCII characters. In Part Two, we recreate the function, allowing for three ASCII characters above 127. It's not perfect, but much better than what we had"
   ]
  },
  {
   "cell_type": "code",
   "execution_count": 14,
   "metadata": {},
   "outputs": [],
   "source": [
    "def is_English(string):\n",
    "    non_English = 0\n",
    "    for letter in string:\n",
    "        if ord(letter) > 127:\n",
    "            non_English += 1\n",
    "    if non_English > 3:\n",
    "        return False\n",
    "    return True"
   ]
  },
  {
   "cell_type": "code",
   "execution_count": 15,
   "metadata": {},
   "outputs": [
    {
     "name": "stdout",
     "output_type": "stream",
     "text": [
      "Instagram: True\n",
      "爱奇艺PPS -《欢乐颂2》电视剧热播: False\n",
      "Docs To Go™ Free Office Suite True\n",
      "Instachat 😜 True\n"
     ]
    }
   ],
   "source": [
    "print('Instagram:', is_English('Instagram'))\n",
    "print('爱奇艺PPS -《欢乐颂2》电视剧热播:', is_English('爱奇艺PPS -《欢乐颂2》电视剧热播'))\n",
    "print('Docs To Go™ Free Office Suite', is_English('Docs To Go™ Free Office Suite'))\n",
    "print('Instachat 😜', is_English('Instachat 😜'))"
   ]
  },
  {
   "cell_type": "code",
   "execution_count": 16,
   "metadata": {},
   "outputs": [],
   "source": [
    "engl_Google = []\n",
    "engl_Ios = []\n",
    "\n",
    "for row in android_clean:\n",
    "    name = row[0]\n",
    "    is_Engl = is_English(name)\n",
    "    if (is_Engl == True):\n",
    "        engl_Google.append(row)\n",
    "        \n",
    "for row in apple_Data:\n",
    "    name = row[1]\n",
    "    is_Engl = is_English(name)\n",
    "    if (is_Engl == True):\n",
    "        engl_Ios.append(row)\n",
    "\n",
    "        "
   ]
  },
  {
   "cell_type": "code",
   "execution_count": 17,
   "metadata": {},
   "outputs": [
    {
     "name": "stdout",
     "output_type": "stream",
     "text": [
      "['Photo Editor & Candy Camera & Grid & ScrapBook', 'ART_AND_DESIGN', '4.1', '159', '19M', '10,000+', 'Free', '0', 'Everyone', 'Art & Design', 'January 7, 2018', '1.0.0', '4.0.3 and up']\n",
      "\n",
      "\n",
      "['U Launcher Lite â\\x80\\x93 FREE Live Cool Themes, Hide Apps', 'ART_AND_DESIGN', '4.7', '87510', '8.7M', '5,000,000+', 'Free', '0', 'Everyone', 'Art & Design', 'August 1, 2018', '1.2.4', '4.0.3 and up']\n",
      "\n",
      "\n",
      "['Sketch - Draw & Paint', 'ART_AND_DESIGN', '4.5', '215644', '25M', '50,000,000+', 'Free', '0', 'Teen', 'Art & Design', 'June 8, 2018', 'Varies with device', '4.2 and up']\n",
      "\n",
      "\n",
      "['Pixel Draw - Number Art Coloring Book', 'ART_AND_DESIGN', '4.3', '967', '2.8M', '100,000+', 'Free', '0', 'Everyone', 'Art & Design;Creativity', 'June 20, 2018', '1.1', '4.4 and up']\n",
      "\n",
      "\n",
      "Number of rows: 9500\n",
      "Number of columns: 13\n",
      "['1', '281656475', 'PAC-MAN Premium', '100788224', 'USD', '3.99', '21292', '26', '4', '4.5', '6.3.5', '4+', 'Games', '38', '5', '10', '1']\n",
      "\n",
      "\n",
      "['2', '281796108', 'Evernote - stay organized', '158578688', 'USD', '0', '161065', '26', '4', '3.5', '8.2.2', '4+', 'Productivity', '37', '5', '23', '1']\n",
      "\n",
      "\n",
      "['3', '281940292', 'WeatherBug - Local Weather, Radar, Maps, Alerts', '100524032', 'USD', '0', '188583', '2822', '3.5', '4.5', '5.0.0', '4+', 'Weather', '37', '5', '3', '1']\n",
      "\n",
      "\n",
      "['4', '282614216', 'eBay: Best App to Buy, Sell, Save! Online Shopping', '128512000', 'USD', '0', '262241', '649', '4', '4.5', '5.10.0', '12+', 'Shopping', '37', '5', '9', '1']\n",
      "\n",
      "\n",
      "Number of rows: 7197\n",
      "Number of columns: 17\n"
     ]
    }
   ],
   "source": [
    "explore_data(engl_Google, 0, 4, True)\n",
    "explore_data(engl_Ios, 0, 4, True)"
   ]
  },
  {
   "cell_type": "markdown",
   "metadata": {},
   "source": [
    "## Isolating the Free Apps"
   ]
  },
  {
   "cell_type": "code",
   "execution_count": 18,
   "metadata": {},
   "outputs": [],
   "source": [
    "# For Google\n",
    "\n",
    "google_Final = []\n",
    "\n",
    "for row in engl_Google:\n",
    "    if row[7] == '0':\n",
    "        google_Final.append(row)\n",
    "\n",
    "ios_Final = []\n",
    "\n",
    "for row in engl_Ios:\n",
    "    if row[4] == '0.0':\n",
    "        ios_Final.append(row)\n",
    "\n",
    "    "
   ]
  },
  {
   "cell_type": "code",
   "execution_count": 19,
   "metadata": {},
   "outputs": [
    {
     "name": "stdout",
     "output_type": "stream",
     "text": [
      "length of Google set: 8760\n",
      "length of ios set: 0\n"
     ]
    }
   ],
   "source": [
    "print('length of Google set:', len(google_Final))\n",
    "print('length of ios set:', len(ios_Final))"
   ]
  },
  {
   "cell_type": "markdown",
   "metadata": {},
   "source": [
    "## Most Common Apps by Genre"
   ]
  },
  {
   "cell_type": "markdown",
   "metadata": {},
   "source": [
    "**Part One**"
   ]
  },
  {
   "cell_type": "markdown",
   "metadata": {},
   "source": [
    "Revenue is highly influenced by the number of people using the app, especially \n",
    "with freemium games. We want to eventually add the app to Google Play and ios markets. \n",
    "Here is our validation strategy to minimize risk and overhead:\n",
    "1. Build a minimal Android version of the app, and add it to Google Play.\n",
    "2. If the app has a good response from users, we then develop it further.\n",
    "3. If the app is profitable after six months, we also build an iOS version of the app and add it to the App Store.\n",
    "\n",
    "We will begin by exploring what the most common genres for each market are. We will use the prime_genre column in apple data, and the genres and category columns from the google play set"
   ]
  },
  {
   "cell_type": "markdown",
   "metadata": {
    "collapsed": true
   },
   "source": [
    "**Part Two & Part Three**"
   ]
  },
  {
   "cell_type": "code",
   "execution_count": 20,
   "metadata": {},
   "outputs": [],
   "source": [
    "def freq_table(dataset, index):\n",
    "    freq_table = {}\n",
    "    total = 0\n",
    "    for row in dataset:\n",
    "        total += 1\n",
    "        value = row[index]\n",
    "        if value in freq_table:\n",
    "            freq_table[value] += 1\n",
    "        else:\n",
    "            freq_table[value] = 1\n",
    "            \n",
    "    percent_table = {}\n",
    "    for key in freq_table:\n",
    "        percentage = (freq_table[key] / total) * 100\n",
    "        percent_table[key] = percentage\n",
    "    \n",
    "    return percent_table\n",
    "\n",
    "def display_table(dataset, index):\n",
    "    table = freq_table(dataset, index)\n",
    "    table_display = []\n",
    "    for key in table:\n",
    "        key_val_as_tuple = (table[key], key)\n",
    "        table_display.append(key_val_as_tuple)\n",
    "\n",
    "    table_sorted = sorted(table_display, reverse = True)\n",
    "    for entry in table_sorted:\n",
    "        print(entry[1], ':', entry[0])"
   ]
  },
  {
   "cell_type": "code",
   "execution_count": 21,
   "metadata": {},
   "outputs": [],
   "source": [
    "display_table(ios_Final, -5) # Prime Genres"
   ]
  },
  {
   "cell_type": "markdown",
   "metadata": {},
   "source": [
    "Games is the most popular by a landslide. However, many of them could have bad reviews or very few people playing them. Most of the apps seemed designed for fun in the App Store, with only education reaching top 5. "
   ]
  },
  {
   "cell_type": "code",
   "execution_count": 22,
   "metadata": {},
   "outputs": [
    {
     "name": "stdout",
     "output_type": "stream",
     "text": [
      "FAMILY : 18.938356164383563\n",
      "GAME : 9.657534246575343\n",
      "TOOLS : 8.481735159817351\n",
      "BUSINESS : 4.646118721461187\n",
      "PRODUCTIVITY : 3.9383561643835616\n",
      "LIFESTYLE : 3.9155251141552516\n",
      "FINANCE : 3.721461187214612\n",
      "MEDICAL : 3.550228310502283\n",
      "SPORTS : 3.3333333333333335\n",
      "PERSONALIZATION : 3.287671232876712\n",
      "COMMUNICATION : 3.2534246575342465\n",
      "HEALTH_AND_FITNESS : 3.093607305936073\n",
      "PHOTOGRAPHY : 2.9794520547945202\n",
      "NEWS_AND_MAGAZINES : 2.808219178082192\n",
      "SOCIAL : 2.6484018264840183\n",
      "TRAVEL_AND_LOCAL : 2.3401826484018264\n",
      "SHOPPING : 2.2488584474885847\n",
      "BOOKS_AND_REFERENCE : 2.146118721461187\n",
      "DATING : 1.860730593607306\n",
      "VIDEO_PLAYERS : 1.8036529680365299\n",
      "MAPS_AND_NAVIGATION : 1.3812785388127853\n",
      "FOOD_AND_DRINK : 1.2328767123287672\n",
      "EDUCATION : 1.1757990867579908\n",
      "ENTERTAINMENT : 0.9589041095890412\n",
      "AUTO_AND_VEHICLES : 0.9246575342465754\n",
      "LIBRARIES_AND_DEMO : 0.9018264840182649\n",
      "WEATHER : 0.7876712328767124\n",
      "HOUSE_AND_HOME : 0.7876712328767124\n",
      "EVENTS : 0.7191780821917808\n",
      "ART_AND_DESIGN : 0.6506849315068494\n",
      "PARENTING : 0.6392694063926941\n",
      "BEAUTY : 0.6050228310502284\n",
      "COMICS : 0.5821917808219178\n"
     ]
    }
   ],
   "source": [
    "display_table(google_Final, 1) # Category"
   ]
  },
  {
   "cell_type": "markdown",
   "metadata": {},
   "source": [
    "There are significant differences in the Google Play market. There are less games and more productivity and tools apps. This information is insufficient to decide on which app to make because it doesn't tell us about how many users use these apps, supply could be more than the demand."
   ]
  },
  {
   "cell_type": "code",
   "execution_count": 23,
   "metadata": {},
   "outputs": [
    {
     "name": "stdout",
     "output_type": "stream",
     "text": [
      "Tools : 8.470319634703197\n",
      "Entertainment : 6.084474885844749\n",
      "Education : 5.3881278538812785\n",
      "Business : 4.646118721461187\n",
      "Productivity : 3.9383561643835616\n",
      "Lifestyle : 3.904109589041096\n",
      "Finance : 3.721461187214612\n",
      "Medical : 3.550228310502283\n",
      "Sports : 3.4018264840182644\n",
      "Personalization : 3.287671232876712\n",
      "Communication : 3.2534246575342465\n",
      "Action : 3.105022831050228\n",
      "Health & Fitness : 3.093607305936073\n",
      "Photography : 2.9794520547945202\n",
      "News & Magazines : 2.808219178082192\n",
      "Social : 2.6484018264840183\n",
      "Travel & Local : 2.328767123287671\n",
      "Shopping : 2.2488584474885847\n",
      "Books & Reference : 2.146118721461187\n",
      "Simulation : 2.054794520547945\n",
      "Dating : 1.860730593607306\n",
      "Arcade : 1.82648401826484\n",
      "Video Players & Editors : 1.7808219178082192\n",
      "Casual : 1.7351598173515983\n",
      "Maps & Navigation : 1.3812785388127853\n",
      "Food & Drink : 1.2328767123287672\n",
      "Puzzle : 1.141552511415525\n",
      "Racing : 1.004566210045662\n",
      "Role Playing : 0.9474885844748858\n",
      "Strategy : 0.9246575342465754\n",
      "Auto & Vehicles : 0.9246575342465754\n",
      "Libraries & Demo : 0.9018264840182649\n",
      "Weather : 0.7876712328767124\n",
      "House & Home : 0.7876712328767124\n",
      "Events : 0.7191780821917808\n",
      "Adventure : 0.6621004566210046\n",
      "Beauty : 0.6050228310502284\n",
      "Art & Design : 0.6050228310502284\n",
      "Comics : 0.5707762557077625\n",
      "Parenting : 0.4908675799086758\n",
      "Card : 0.4452054794520548\n",
      "Casino : 0.410958904109589\n",
      "Trivia : 0.3995433789954338\n",
      "Educational;Education : 0.3995433789954338\n",
      "Board : 0.3881278538812785\n",
      "Educational : 0.3767123287671233\n",
      "Education;Education : 0.3424657534246575\n",
      "Word : 0.2511415525114155\n",
      "Casual;Pretend Play : 0.2397260273972603\n",
      "Music : 0.19406392694063926\n",
      "Puzzle;Brain Games : 0.17123287671232876\n",
      "Entertainment;Music & Video : 0.17123287671232876\n",
      "Racing;Action & Adventure : 0.14840182648401826\n",
      "Casual;Brain Games : 0.136986301369863\n",
      "Casual;Action & Adventure : 0.136986301369863\n",
      "Arcade;Action & Adventure : 0.12557077625570776\n",
      "Action;Action & Adventure : 0.10273972602739725\n",
      "Educational;Pretend Play : 0.091324200913242\n",
      "Simulation;Action & Adventure : 0.07990867579908677\n",
      "Parenting;Education : 0.07990867579908677\n",
      "Entertainment;Brain Games : 0.07990867579908677\n",
      "Casual;Creativity : 0.0684931506849315\n",
      "Art & Design;Creativity : 0.0684931506849315\n",
      "Parenting;Music & Video : 0.05707762557077625\n",
      "Educational;Brain Games : 0.05707762557077625\n",
      "Education;Pretend Play : 0.05707762557077625\n",
      "Board;Brain Games : 0.05707762557077625\n",
      "Role Playing;Pretend Play : 0.045662100456621\n",
      "Education;Creativity : 0.045662100456621\n",
      "Role Playing;Action & Adventure : 0.03424657534246575\n",
      "Puzzle;Action & Adventure : 0.03424657534246575\n",
      "Entertainment;Creativity : 0.03424657534246575\n",
      "Entertainment;Action & Adventure : 0.03424657534246575\n",
      "Educational;Creativity : 0.03424657534246575\n",
      "Educational;Action & Adventure : 0.03424657534246575\n",
      "Education;Music & Video : 0.03424657534246575\n",
      "Education;Brain Games : 0.03424657534246575\n",
      "Education;Action & Adventure : 0.03424657534246575\n",
      "Adventure;Action & Adventure : 0.03424657534246575\n",
      "Video Players & Editors;Music & Video : 0.0228310502283105\n",
      "Sports;Action & Adventure : 0.0228310502283105\n",
      "Simulation;Pretend Play : 0.0228310502283105\n",
      "Puzzle;Creativity : 0.0228310502283105\n",
      "Music;Music & Video : 0.0228310502283105\n",
      "Entertainment;Pretend Play : 0.0228310502283105\n",
      "Casual;Education : 0.0228310502283105\n",
      "Board;Action & Adventure : 0.0228310502283105\n",
      "Video Players & Editors;Creativity : 0.01141552511415525\n",
      "Trivia;Education : 0.01141552511415525\n",
      "Travel & Local;Action & Adventure : 0.01141552511415525\n",
      "Tools;Education : 0.01141552511415525\n",
      "Strategy;Education : 0.01141552511415525\n",
      "Strategy;Creativity : 0.01141552511415525\n",
      "Strategy;Action & Adventure : 0.01141552511415525\n",
      "Simulation;Education : 0.01141552511415525\n",
      "Role Playing;Brain Games : 0.01141552511415525\n",
      "Racing;Pretend Play : 0.01141552511415525\n",
      "Puzzle;Education : 0.01141552511415525\n",
      "Parenting;Brain Games : 0.01141552511415525\n",
      "Music & Audio;Music & Video : 0.01141552511415525\n",
      "Lifestyle;Pretend Play : 0.01141552511415525\n",
      "Lifestyle;Education : 0.01141552511415525\n",
      "Health & Fitness;Education : 0.01141552511415525\n",
      "Health & Fitness;Action & Adventure : 0.01141552511415525\n",
      "Entertainment;Education : 0.01141552511415525\n",
      "Communication;Creativity : 0.01141552511415525\n",
      "Comics;Creativity : 0.01141552511415525\n",
      "Card;Action & Adventure : 0.01141552511415525\n",
      "Books & Reference;Education : 0.01141552511415525\n",
      "Art & Design;Pretend Play : 0.01141552511415525\n",
      "Art & Design;Action & Adventure : 0.01141552511415525\n",
      "Arcade;Pretend Play : 0.01141552511415525\n",
      "Adventure;Education : 0.01141552511415525\n"
     ]
    }
   ],
   "source": [
    "display_table(google_Final, -4) # Genres"
   ]
  },
  {
   "cell_type": "markdown",
   "metadata": {},
   "source": [
    "## Most Popular Apps by Genre on the App Store"
   ]
  },
  {
   "cell_type": "code",
   "execution_count": 24,
   "metadata": {},
   "outputs": [],
   "source": [
    "freq_ios = freq_table(ios_Final, -5)\n",
    "\n",
    "for genre in freq_ios:\n",
    "    total = 0\n",
    "    len_genre = 0\n",
    "    for row in ios_Final:\n",
    "        genre_app = row[-5]\n",
    "        if (genre_app == genre):\n",
    "            n_ratings = float(row[5])\n",
    "            total += n_ratings\n",
    "            len_genre += 1\n",
    "    avg_num_ratings = total / len_genre\n",
    "    print(genre, ':', avg_num_ratings)\n"
   ]
  },
  {
   "cell_type": "markdown",
   "metadata": {},
   "source": [
    "Navigation apps have the most reviews, however this is mainly due to google maps. Social Networking is up there as well as Reference apps. Social Networking is also skewed by apps such as Facebook and Instagram. Let's take a further look at reference."
   ]
  },
  {
   "cell_type": "code",
   "execution_count": 25,
   "metadata": {},
   "outputs": [],
   "source": [
    "for row in ios_Final:\n",
    "    if row[-5] == 'Reference':\n",
    "        print(row[1], ':', row[5])"
   ]
  },
  {
   "cell_type": "markdown",
   "metadata": {},
   "source": []
  },
  {
   "cell_type": "markdown",
   "metadata": {
    "collapsed": true
   },
   "source": [
    "## Most Popular Apps by Genre on Google Play"
   ]
  },
  {
   "cell_type": "code",
   "execution_count": 26,
   "metadata": {},
   "outputs": [
    {
     "name": "stdout",
     "output_type": "stream",
     "text": [
      "ART_AND_DESIGN : 1986335.0877192982\n",
      "AUTO_AND_VEHICLES : 654074.8271604938\n",
      "BEAUTY : 513151.88679245283\n",
      "BOOKS_AND_REFERENCE : 8329168.936170213\n",
      "BUSINESS : 1712290.1474201474\n",
      "COMICS : 859042.1568627451\n",
      "COMMUNICATION : 38550548.03859649\n",
      "DATING : 861409.5521472392\n",
      "EDUCATION : 1833495.145631068\n",
      "ENTERTAINMENT : 11767380.952380951\n",
      "EVENTS : 253542.22222222222\n",
      "FINANCE : 1365500.4049079753\n",
      "FOOD_AND_DRINK : 1951283.8055555555\n",
      "HEALTH_AND_FITNESS : 4219697.055350553\n",
      "HOUSE_AND_HOME : 1385541.463768116\n",
      "LIBRARIES_AND_DEMO : 649314.0506329114\n",
      "LIFESTYLE : 1447458.976676385\n",
      "GAME : 15571586.690307328\n",
      "FAMILY : 3716053.755274262\n",
      "MEDICAL : 121161.87781350482\n",
      "SOCIAL : 23628689.23275862\n",
      "SHOPPING : 7103190.78680203\n",
      "PHOTOGRAPHY : 17840110.40229885\n",
      "SPORTS : 3750580.6438356163\n",
      "TRAVEL_AND_LOCAL : 14120454.07804878\n",
      "TOOLS : 10902378.834454913\n",
      "PERSONALIZATION : 5240358.986111111\n",
      "PRODUCTIVITY : 16787331.344927534\n",
      "PARENTING : 552875.1785714285\n",
      "WEATHER : 5212877.101449275\n",
      "VIDEO_PLAYERS : 24878048.860759493\n",
      "NEWS_AND_MAGAZINES : 9626407.357723577\n",
      "MAPS_AND_NAVIGATION : 4115374.214876033\n",
      "\n",
      "\n",
      "COMMUNICATION : 38550548.03859649\n"
     ]
    }
   ],
   "source": [
    "freq_google = freq_table(google_Final, 1)\n",
    "\n",
    "max_installs = 0\n",
    "max_genre = ''\n",
    "for category in freq_google:\n",
    "    total = 0\n",
    "    len_category = 0\n",
    "    for row in google_Final:\n",
    "        category_app = row[1]\n",
    "        if category_app == category:\n",
    "            n_installs = row[5]\n",
    "            n_installs = n_installs.replace('+', '')\n",
    "            n_installs = n_installs.replace(',', '')\n",
    "            n_installs = float(n_installs)\n",
    "            total += n_installs\n",
    "            len_category += 1\n",
    "    avg_installs = total / len_category\n",
    "    if (avg_installs > max_installs):\n",
    "        max_installs = avg_installs\n",
    "        max_genre = category\n",
    "    print(category, ':', avg_installs)\n",
    "print('\\n')\n",
    "print(max_genre, ':', max_installs)\n",
    "\n"
   ]
  },
  {
   "cell_type": "markdown",
   "metadata": {},
   "source": [
    "Communication is the most installed category, but it is heavily influenced by Facebook, Instagram etc. We see that Books and Reference is fairly well represented. Let's take a further look."
   ]
  },
  {
   "cell_type": "code",
   "execution_count": 27,
   "metadata": {},
   "outputs": [
    {
     "name": "stdout",
     "output_type": "stream",
     "text": [
      "E-Book Read - Read Book for free : 50,000+\n",
      "Download free book with green book : 100,000+\n",
      "Wikipedia : 10,000,000+\n",
      "Cool Reader : 10,000,000+\n",
      "Free Panda Radio Music : 100,000+\n",
      "Book store : 1,000,000+\n",
      "FBReader: Favorite Book Reader : 10,000,000+\n",
      "English Grammar Complete Handbook : 500,000+\n",
      "Free Books - Spirit Fanfiction and Stories : 1,000,000+\n",
      "Google Play Books : 1,000,000,000+\n",
      "AlReader -any text book reader : 5,000,000+\n",
      "Offline English Dictionary : 100,000+\n",
      "Offline: English to Tagalog Dictionary : 500,000+\n",
      "FamilySearch Tree : 1,000,000+\n",
      "Cloud of Books : 1,000,000+\n",
      "Recipes of Prophetic Medicine for free : 500,000+\n",
      "ReadEra â free ebook reader : 1,000,000+\n",
      "Anonymous caller detection : 10,000+\n",
      "Ebook Reader : 5,000,000+\n",
      "Litnet - E-books : 100,000+\n",
      "Read books online : 5,000,000+\n",
      "English to Urdu Dictionary : 500,000+\n",
      "eBoox: book reader fb2 epub zip : 1,000,000+\n",
      "English Persian Dictionary : 500,000+\n",
      "Flybook : 500,000+\n",
      "All Maths Formulas : 1,000,000+\n",
      "Ancestry : 5,000,000+\n",
      "HTC Help : 10,000,000+\n",
      "English translation from Bengali : 100,000+\n",
      "Pdf Book Download - Read Pdf Book : 100,000+\n",
      "Free Book Reader : 100,000+\n",
      "eBoox new: Reader for fb2 epub zip books : 50,000+\n",
      "Only 30 days in English, the guideline is guaranteed : 500,000+\n",
      "Moon+ Reader : 10,000,000+\n",
      "SH-02J Owner's Manual (Android 8.0) : 50,000+\n",
      "English-Myanmar Dictionary : 1,000,000+\n",
      "Golden Dictionary (EN-AR) : 1,000,000+\n",
      "All Language Translator Free : 1,000,000+\n",
      "Azpen eReader : 500,000+\n",
      "URBANO V 02 instruction manual : 100,000+\n",
      "Bible : 100,000,000+\n",
      "C Programs and Reference : 50,000+\n",
      "C Offline Tutorial : 1,000+\n",
      "C Programs Handbook : 50,000+\n",
      "Amazon Kindle : 100,000,000+\n",
      "Aab e Hayat Full Novel : 100,000+\n",
      "Aldiko Book Reader : 10,000,000+\n",
      "Google I/O 2018 : 500,000+\n",
      "R Language Reference Guide : 10,000+\n",
      "Learn R Programming Full : 5,000+\n",
      "R Programing Offline Tutorial : 1,000+\n",
      "Guide for R Programming : 5+\n",
      "Learn R Programming : 10+\n",
      "R Quick Reference Big Data : 1,000+\n",
      "V Made : 100,000+\n",
      "Dictionary - WordWeb : 5,000,000+\n",
      "Guide (for X-MEN) : 100,000+\n",
      "AC Air condition Troubleshoot,Repair,Maintenance : 5,000+\n",
      "AE Bulletins : 1,000+\n",
      "Ae Allah na Dai (Rasa) : 10,000+\n",
      "50000 Free eBooks & Free AudioBooks : 5,000,000+\n",
      "Ag PhD Field Guide : 10,000+\n",
      "Ag PhD Deficiencies : 10,000+\n",
      "Ag PhD Planting Population Calculator : 1,000+\n",
      "Ag PhD Soybean Diseases : 1,000+\n",
      "Fertilizer Removal By Crop : 50,000+\n",
      "A-J Media Vault : 50+\n",
      "Al-Quran (Free) : 10,000,000+\n",
      "Al Quran (Tafsir & by Word) : 500,000+\n",
      "Al Quran Indonesia : 10,000,000+\n",
      "Al'Quran Bahasa Indonesia : 10,000,000+\n",
      "Al Quran Al karim : 1,000,000+\n",
      "Al-Muhaffiz : 50,000+\n",
      "Al Quran : EAlim - Translations & MP3 Offline : 5,000,000+\n",
      "Al-Quran 30 Juz free copies : 500,000+\n",
      "Koran Read &MP3 30 Juz Offline : 1,000,000+\n",
      "Hafizi Quran 15 lines per page : 1,000,000+\n",
      "Quran for Android : 10,000,000+\n",
      "Surah Al-Waqiah : 100,000+\n",
      "Hisnul Al Muslim - Hisn Invocations & Adhkaar : 100,000+\n",
      "Satellite AR : 1,000,000+\n",
      "Audiobooks from Audible : 100,000,000+\n",
      "Kinot & Eichah for Tisha B'Av : 10,000+\n",
      "AW Tozer Devotionals - Daily : 5,000+\n",
      "Tozer Devotional -Series 1 : 1,000+\n",
      "The Pursuit of God : 1,000+\n",
      "AY Sing : 5,000+\n",
      "Ay Hasnain k Nana Milad Naat : 10,000+\n",
      "Ay Mohabbat Teri Khatir Novel : 10,000+\n",
      "Arizona Statutes, ARS (AZ Law) : 1,000+\n",
      "Oxford A-Z of English Usage : 1,000,000+\n",
      "BD Fishpedia : 1,000+\n",
      "BD All Sim Offer : 10,000+\n",
      "Youboox - Livres, BD et magazines : 500,000+\n",
      "B&H Kids AR : 10,000+\n",
      "B y H NiÃ±os ES : 5,000+\n",
      "Dictionary.com: Find Definitions for English Words : 10,000,000+\n",
      "English Dictionary - Offline : 10,000,000+\n",
      "Bible KJV : 5,000,000+\n",
      "Borneo Bible, BM Bible : 10,000+\n",
      "MOD Black for BM : 100+\n",
      "BM Box : 1,000+\n",
      "Anime Mod for BM : 100+\n",
      "NOOK: Read eBooks & Magazines : 10,000,000+\n",
      "NOOK Audiobooks : 500,000+\n",
      "NOOK App for NOOK Devices : 500,000+\n",
      "Browsery by Barnes & Noble : 5,000+\n",
      "bp e-store : 1,000+\n",
      "Brilliant Quotes: Life, Love, Family & Motivation : 1,000,000+\n",
      "BR Ambedkar Biography & Quotes : 10,000+\n",
      "BU Alsace : 100+\n",
      "Catholic La Bu Zo Kam : 500+\n",
      "Khrifa Hla Bu (Solfa) : 10+\n",
      "Kristian Hla Bu : 10,000+\n",
      "SA HLA BU : 1,000+\n",
      "Learn SAP BW : 500+\n",
      "Learn SAP BW on HANA : 500+\n",
      "CA Laws 2018 (California Laws and Codes) : 5,000+\n",
      "Bootable Methods(USB-CD-DVD) : 10,000+\n",
      "cloudLibrary : 100,000+\n",
      "SDA Collegiate Quarterly : 500+\n",
      "Sabbath School : 100,000+\n",
      "Cypress College Library : 100+\n",
      "Stats Royale for Clash Royale : 1,000,000+\n",
      "GATE 21 years CS Papers(2011-2018 Solved) : 50+\n",
      "Learn CT Scan Of Head : 5,000+\n",
      "Easy Cv maker 2018 : 10,000+\n",
      "How to Write CV : 100,000+\n",
      "CW Nuclear : 1,000+\n",
      "CY Spray nozzle : 10+\n",
      "BibleRead En Cy Zh Yue : 5+\n",
      "CZ-Help : 5+\n",
      "Guide for DB Xenoverse : 10,000+\n",
      "Guide for DB Xenoverse 2 : 10,000+\n",
      "Guide for IMS DB : 10+\n",
      "DC HSEMA : 5,000+\n",
      "DC Public Library : 1,000+\n",
      "Painting Lulu DC Super Friends : 1,000+\n",
      "Dictionary : 10,000,000+\n",
      "Fix Error Google Playstore : 1,000+\n",
      "D. H. Lawrence Poems FREE : 1,000+\n",
      "Bilingual Dictionary Audio App : 5,000+\n",
      "DM Screen : 10,000+\n",
      "wikiHow: how to do anything : 1,000,000+\n",
      "Dr. Doug's Tips : 1,000+\n",
      "Bible du Semeur-BDS (French) : 50,000+\n",
      "La citadelle du musulman : 50,000+\n",
      "DV 2019 Entry Guide : 10,000+\n",
      "DV 2019 - EDV Photo & Form : 50,000+\n",
      "DV 2018 Winners Guide : 1,000+\n",
      "EB Annual Meetings : 1,000+\n",
      "EC - AP & Telangana : 5,000+\n",
      "TN Patta Citta & EC : 10,000+\n",
      "AP Stamps and Registration : 10,000+\n",
      "CompactiMa EC pH Calibration : 100+\n",
      "EGW Writings 2 : 100,000+\n",
      "EGW Writings : 1,000,000+\n",
      "Bible with EGW Comments : 100,000+\n",
      "My Little Pony AR Guide : 1,000,000+\n",
      "SDA Sabbath School Quarterly : 500,000+\n",
      "Duaa Ek Ibaadat : 5,000+\n",
      "Spanish English Translator : 10,000,000+\n",
      "Dictionary - Merriam-Webster : 10,000,000+\n",
      "JW Library : 10,000,000+\n",
      "Oxford Dictionary of English : Free : 10,000,000+\n",
      "English Hindi Dictionary : 10,000,000+\n",
      "English to Hindi Dictionary : 5,000,000+\n",
      "EP Research Service : 1,000+\n",
      "Hymnes et Louanges : 100,000+\n",
      "EU Charter : 1,000+\n",
      "EU Data Protection : 1,000+\n",
      "EU IP Codes : 100+\n",
      "EW PDF : 5+\n",
      "BakaReader EX : 100,000+\n",
      "EZ Quran : 50,000+\n",
      "FA Part 1 & 2 Past Papers Solved Free â Offline : 5,000+\n",
      "La Fe de Jesus : 1,000+\n",
      "La Fe de JesÃºs : 500+\n",
      "Le Fe de Jesus : 500+\n",
      "Florida - Pocket Brainbook : 1,000+\n",
      "Florida Statutes (FL Code) : 1,000+\n",
      "English To Shona Dictionary : 10,000+\n",
      "Greek Bible FP (Audio) : 1,000+\n",
      "Golden Dictionary (FR-AR) : 500,000+\n",
      "Fanfic-FR : 5,000+\n",
      "Bulgarian French Dictionary Fr : 10,000+\n",
      "Chemin (fr) : 1,000+\n",
      "The SCP Foundation DB fr nn5n : 1,000+\n"
     ]
    }
   ],
   "source": [
    "for row in google_Final:\n",
    "    if row[1] == \"BOOKS_AND_REFERENCE\":\n",
    "        print(row[0], ':', row[5])"
   ]
  },
  {
   "cell_type": "markdown",
   "metadata": {},
   "source": [
    "There are a lot of E reader apps, and holy texts with high number of installs. There would be significant competition in these niche markets. Let's look at the apps in the mid range number of installs"
   ]
  },
  {
   "cell_type": "code",
   "execution_count": 28,
   "metadata": {},
   "outputs": [
    {
     "name": "stdout",
     "output_type": "stream",
     "text": [
      "Wikipedia : 10,000,000+\n",
      "Cool Reader : 10,000,000+\n",
      "Book store : 1,000,000+\n",
      "FBReader: Favorite Book Reader : 10,000,000+\n",
      "Free Books - Spirit Fanfiction and Stories : 1,000,000+\n",
      "AlReader -any text book reader : 5,000,000+\n",
      "FamilySearch Tree : 1,000,000+\n",
      "Cloud of Books : 1,000,000+\n",
      "ReadEra â free ebook reader : 1,000,000+\n",
      "Ebook Reader : 5,000,000+\n",
      "Read books online : 5,000,000+\n",
      "eBoox: book reader fb2 epub zip : 1,000,000+\n",
      "All Maths Formulas : 1,000,000+\n",
      "Ancestry : 5,000,000+\n",
      "HTC Help : 10,000,000+\n",
      "Moon+ Reader : 10,000,000+\n",
      "English-Myanmar Dictionary : 1,000,000+\n",
      "Golden Dictionary (EN-AR) : 1,000,000+\n",
      "All Language Translator Free : 1,000,000+\n",
      "Aldiko Book Reader : 10,000,000+\n",
      "Dictionary - WordWeb : 5,000,000+\n",
      "50000 Free eBooks & Free AudioBooks : 5,000,000+\n",
      "Al-Quran (Free) : 10,000,000+\n",
      "Al Quran Indonesia : 10,000,000+\n",
      "Al'Quran Bahasa Indonesia : 10,000,000+\n",
      "Al Quran Al karim : 1,000,000+\n",
      "Al Quran : EAlim - Translations & MP3 Offline : 5,000,000+\n",
      "Koran Read &MP3 30 Juz Offline : 1,000,000+\n",
      "Hafizi Quran 15 lines per page : 1,000,000+\n",
      "Quran for Android : 10,000,000+\n",
      "Satellite AR : 1,000,000+\n",
      "Oxford A-Z of English Usage : 1,000,000+\n",
      "Dictionary.com: Find Definitions for English Words : 10,000,000+\n",
      "English Dictionary - Offline : 10,000,000+\n",
      "Bible KJV : 5,000,000+\n",
      "NOOK: Read eBooks & Magazines : 10,000,000+\n",
      "Brilliant Quotes: Life, Love, Family & Motivation : 1,000,000+\n",
      "Stats Royale for Clash Royale : 1,000,000+\n",
      "Dictionary : 10,000,000+\n",
      "wikiHow: how to do anything : 1,000,000+\n",
      "EGW Writings : 1,000,000+\n",
      "My Little Pony AR Guide : 1,000,000+\n",
      "Spanish English Translator : 10,000,000+\n",
      "Dictionary - Merriam-Webster : 10,000,000+\n",
      "JW Library : 10,000,000+\n",
      "Oxford Dictionary of English : Free : 10,000,000+\n",
      "English Hindi Dictionary : 10,000,000+\n",
      "English to Hindi Dictionary : 5,000,000+\n"
     ]
    }
   ],
   "source": [
    "for row in google_Final:\n",
    "    if (row[1] == \"BOOKS_AND_REFERENCE\" and (row[5] == '1,000,000+' \n",
    "                                             or row[5] == '5,000,000+' \n",
    "                                             or row[5] == '10,000,000+' \n",
    "                                             or row[5] == '50,000,000+')):\n",
    "        print(row[0], ':', row[5])"
   ]
  },
  {
   "cell_type": "markdown",
   "metadata": {},
   "source": [
    "Based on these results, we can deduce that an app based on a popular book could be quite profitable. "
   ]
  },
  {
   "cell_type": "markdown",
   "metadata": {},
   "source": [
    "## Conclusions"
   ]
  },
  {
   "cell_type": "markdown",
   "metadata": {},
   "source": [
    "In this project, we analyzed app data for the Google and Apple markets, to see which type of freemium app we could make which would be profitable in both markets.\n",
    "Afer the analysis, we see that creating an app about a popular book would likely be most profitable in both markets."
   ]
  }
 ],
 "metadata": {
  "kernelspec": {
   "display_name": "Python 3",
   "language": "python",
   "name": "python3"
  },
  "language_info": {
   "codemirror_mode": {
    "name": "ipython",
    "version": 3
   },
   "file_extension": ".py",
   "mimetype": "text/x-python",
   "name": "python",
   "nbconvert_exporter": "python",
   "pygments_lexer": "ipython3",
   "version": "3.7.1"
  }
 },
 "nbformat": 4,
 "nbformat_minor": 2
}
